{
 "cells": [
  {
   "cell_type": "code",
   "execution_count": 16,
   "id": "04b610a5-fefa-4a6d-8a29-1b3c159bfcd5",
   "metadata": {},
   "outputs": [],
   "source": [
    "import pandas as pd\n",
    "import numpy as np\n",
    "from pathlib import Path\n",
    "import warnings\n",
    "\n",
    "# Silence warnings (keeps notebook clean)\n",
    "warnings.filterwarnings(\"ignore\", category=FutureWarning)\n",
    "warnings.filterwarnings(\"ignore\", category=UserWarning)\n",
    "\n",
    "# === Global runtime context (shared between tools) ===\n",
    "STATE = {\n",
    "    \"df\": None,       # the active DataFrame\n",
    "    \"name\": None,     # dataset name\n",
    "    \"schema\": None,   # LLM-provided schema\n",
    "}\n"
   ]
  },
  {
   "cell_type": "code",
   "execution_count": 15,
   "id": "d2442b07-9578-4b24-a726-b95d40e12799",
   "metadata": {},
   "outputs": [],
   "source": [
    "# === Core MCP-ready data tools (no heuristics, no auto checks) ===\n",
    "# The LLM supplies decisions (schema, columns, thresholds). These functions just execute.\n",
    "\n",
    "import pandas as pd\n",
    "import numpy as np\n",
    "import plotly.express as px\n",
    "from pathlib import Path\n",
    "from typing import Dict, List, Tuple, Any, Optional\n",
    "\n",
    "STATE: Dict[str, Any] = {\"df\": None, \"name\": None, \"schema\": None}\n",
    "\n",
    "# ---- Data I/O ----\n",
    "def load_data(path: str) -> Dict[str, Any]:\n",
    "    df = pd.read_csv(path)\n",
    "    STATE[\"df\"] = df\n",
    "    STATE[\"name\"] = Path(path).name\n",
    "    return {\"ok\": True, \"dataset\": STATE[\"name\"], \"rows\": len(df), \"cols\": df.shape[1]}\n",
    "\n",
    "def set_schema(schema: Dict[str, List[str]]) -> Dict[str, Any]:\n",
    "    \"\"\"\n",
    "    LLM-provided schema. Example keys: numeric, categorical, datetime, temporal, unique_id, unclassified.\n",
    "    This function does not validate; it stores whatever is provided.\n",
    "    \"\"\"\n",
    "    STATE[\"schema\"] = schema\n",
    "    return {\"ok\": True, \"keys\": list(schema.keys())}\n",
    "\n",
    "def get_schema() -> Dict[str, Any]:\n",
    "    return {\"ok\": STATE[\"schema\"] is not None, \"schema\": STATE[\"schema\"]}\n",
    "\n",
    "# ---- Summaries ----\n",
    "def summary(numeric_only: bool = True) -> Dict[str, Any]:\n",
    "    df = STATE[\"df\"]; assert df is not None\n",
    "    if numeric_only:\n",
    "        desc = df.describe().T\n",
    "    else:\n",
    "        desc = df.describe(include=\"all\").T\n",
    "    return {\"ok\": True, \"rows\": len(df), \"cols\": df.shape[1], \"describe\": desc}\n",
    "\n",
    "def head(n: int = 5):\n",
    "    df = STATE[\"df\"]; assert df is not None\n",
    "    return df.head(n)\n",
    "\n",
    "# ---- Categorical (LLM decides which columns) ----\n",
    "def top_categories(columns: List[str], top_n: int = 10) -> Dict[str, Any]:\n",
    "    df = STATE[\"df\"]; assert df is not None\n",
    "    out = {}\n",
    "    for c in columns:\n",
    "        out[c] = df[c].astype(str).value_counts(dropna=True).head(top_n)\n",
    "        # Optional plot per column (LLM decides when to call)\n",
    "        bar_df = out[c].reset_index(); bar_df.columns = [c, \"count\"]\n",
    "        fig = px.bar(bar_df, x=c, y=\"count\", title=f\"Top {top_n}: {c}\")\n",
    "        fig.update_layout(xaxis_tickangle=-30)\n",
    "        fig.show()\n",
    "    return {\"ok\": True, \"columns\": columns}\n",
    "\n",
    "# ---- Correlations (LLM supplies the exact columns or pairs) ----\n",
    "def correlations(columns: Optional[List[str]] = None, method: str = \"pearson\") -> Dict[str, Any]:\n",
    "    df = STATE[\"df\"]; assert df is not None\n",
    "    if columns is None:\n",
    "        corr = df.corr(numeric_only=True, method=method)\n",
    "    else:\n",
    "        corr = df[columns].corr(method=method)\n",
    "    return {\"ok\": True, \"method\": method, \"corr\": corr}\n",
    "\n",
    "def scatter_pairs(pairs: List[Tuple[str, str]]) -> Dict[str, Any]:\n",
    "    df = STATE[\"df\"]; assert df is not None\n",
    "    for x, y in pairs:\n",
    "        fig = px.scatter(df, x=x, y=y, trendline=\"ols\", title=f\"{x} vs {y}\")\n",
    "        fig.show()\n",
    "    return {\"ok\": True, \"pairs_plotted\": len(pairs)}\n",
    "\n",
    "# ---- Outliers (LLM chooses columns & threshold) ----\n",
    "def outliers(columns: List[str], z: float = 3.0) -> Dict[str, Any]:\n",
    "    df = STATE[\"df\"]; assert df is not None\n",
    "    sub = df[columns]\n",
    "    zscores = (sub - sub.mean()) / (sub.std(ddof=0) + 1e-9)\n",
    "    mask = (zscores.abs() > z).any(axis=1)\n",
    "    idx = df.index[mask].tolist()\n",
    "    return {\"ok\": True, \"count\": len(idx), \"indices\": idx}\n",
    "\n",
    "# ---- Missing values (LLM supplies threshold) ----\n",
    "def missing(threshold: float = 0.20) -> Dict[str, Any]:\n",
    "    df = STATE[\"df\"]; assert df is not None\n",
    "    miss = df.isna().mean()\n",
    "    flagged = miss[miss > threshold].sort_values(ascending=False)\n",
    "    return {\"ok\": True, \"threshold\": threshold, \"missing\": flagged}\n",
    "\n",
    "# ---- Distributions / XY plots (LLM specifies exactly what to plot) ----\n",
    "def plot_hist(column: str, nbins: int = 30) -> Dict[str, Any]:\n",
    "    df = STATE[\"df\"]; assert df is not None\n",
    "    fig = px.histogram(df, x=column, nbins=nbins, title=f\"Distribution: {column}\")\n",
    "    fig.show()\n",
    "    return {\"ok\": True}\n",
    "\n",
    "def plot_xy(x: str, y: str) -> Dict[str, Any]:\n",
    "    df = STATE[\"df\"]; assert df is not None\n",
    "    fig = px.scatter(df, x=x, y=y, trendline=\"ols\", title=f\"{x} vs {y}\")\n",
    "    fig.show()\n",
    "    return {\"ok\": True}\n",
    "\n",
    "# ---- Time trends (LLM chooses the column & aggregation) ----\n",
    "def time_trend(column: str, freq: str = \"M\") -> Dict[str, Any]:\n",
    "    \"\"\"\n",
    "    Expect a datetime column or a year-like integer column (LLM decides which).\n",
    "    If it's integer-like years, we aggregate by the integer values directly.\n",
    "    If it's datetime, we resample/count by freq.\n",
    "    \"\"\"\n",
    "    df = STATE[\"df\"]; assert df is not None\n",
    "    s = df[column]\n",
    "\n",
    "    # If datetime-like, group by resampled period count\n",
    "    if pd.api.types.is_datetime64_any_dtype(s):\n",
    "        grp = s.dropna().dt.to_period(freq).value_counts().sort_index()\n",
    "        x = grp.index.astype(str); y = grp.values\n",
    "        title = f\"Count by {freq}: {column}\"\n",
    "        fig = px.line(x=x, y=y, labels={\"x\": column, \"y\": \"count\"}, title=title)\n",
    "        fig.show()\n",
    "        return {\"ok\": True, \"type\": \"datetime\"}\n",
    "\n",
    "    # Else: treat as year-like numbers (LLM ensured this)\n",
    "    ser = pd.to_numeric(s, errors=\"coerce\").dropna().astype(int)\n",
    "    grp = ser.value_counts().sort_index()\n",
    "    fig = px.line(x=grp.index, y=grp.values, labels={\"x\": column, \"y\": \"count\"},\n",
    "                  title=f\"Count by Year: {column}\")\n",
    "    fig.show()\n",
    "    return {\"ok\": True, \"type\": \"year-int\"}\n"
   ]
  },
  {
   "cell_type": "code",
   "execution_count": 17,
   "id": "cd1510d2-ca4e-4dda-8604-4ad01a541b6a",
   "metadata": {},
   "outputs": [],
   "source": [
    "# === Minimal tool registry & invoker (MCP-ready shim) ===\n",
    "import json\n",
    "from typing import Callable\n",
    "\n",
    "# 1) Register every callable tool you want exposed\n",
    "TOOLS: dict[str, Callable] = {\n",
    "    \"load_data\": load_data,\n",
    "    \"set_schema\": set_schema,\n",
    "    \"get_schema\": get_schema,\n",
    "    \"summary\": summary,\n",
    "    \"head\": head,\n",
    "    \"top_categories\": top_categories,\n",
    "    \"correlations\": correlations,\n",
    "    \"scatter_pairs\": scatter_pairs,\n",
    "    \"outliers\": outliers,\n",
    "    \"missing\": missing,\n",
    "    \"plot_hist\": plot_hist,\n",
    "    \"plot_xy\": plot_xy,\n",
    "    \"time_trend\": time_trend,\n",
    "}\n",
    "\n",
    "# 2) Simple invoker that matches MCP-style name + args dict\n",
    "def invoke_tool(name: str, args: dict | None = None):\n",
    "    if name not in TOOLS:\n",
    "        return {\"ok\": False, \"error\": f\"unknown_tool:{name}\"}\n",
    "    fn = TOOLS[name]\n",
    "    args = args or {}\n",
    "    try:\n",
    "        result = fn(**args)\n",
    "        # pandas objects (DataFrames/Series) aren’t JSON—stringify minimal bits\n",
    "        def _serialize(x):\n",
    "            if hasattr(x, \"to_dict\"):\n",
    "                return x.to_dict()\n",
    "            if hasattr(x, \"to_json\"):\n",
    "                return json.loads(x.to_json())\n",
    "            return x\n",
    "        if isinstance(result, dict):\n",
    "            return {k: _serialize(v) for k, v in result.items()}\n",
    "        return _serialize(result)\n",
    "    except AssertionError as e:\n",
    "        return {\"ok\": False, \"error\": f\"assert:{e}\"}\n",
    "    except Exception as e:\n",
    "        return {\"ok\": False, \"error\": f\"exception:{type(e).__name__}:{e}\"}"
   ]
  },
  {
   "cell_type": "code",
   "execution_count": 19,
   "id": "16bc2f7d-80ad-44c4-98da-1d8697720cf0",
   "metadata": {},
   "outputs": [
    {
     "name": "stdout",
     "output_type": "stream",
     "text": [
      "{'ok': True, 'dataset': 'netflix_titles_CLEANED.csv', 'rows': 8807, 'cols': 12}\n",
      "{'ok': True, 'keys': ['numeric', 'categorical', 'datetime', 'temporal', 'unique_id', 'unclassified']}\n",
      "{'ok': True, 'schema': {'numeric': ['release_year'], 'categorical': ['type', 'country'], 'datetime': [], 'temporal': ['release_year'], 'unique_id': ['show_id'], 'unclassified': []}}\n",
      "{'ok': True, 'rows': 8807, 'cols': 12}\n"
     ]
    },
    {
     "data": {
      "application/vnd.plotly.v1+json": {
       "config": {
        "plotlyServerURL": "https://plot.ly"
       },
       "data": [
        {
         "hovertemplate": "type=%{x}<br>count=%{y}<extra></extra>",
         "legendgroup": "",
         "marker": {
          "color": "#636efa",
          "pattern": {
           "shape": ""
          }
         },
         "name": "",
         "orientation": "v",
         "showlegend": false,
         "textposition": "auto",
         "type": "bar",
         "x": [
          "Movie",
          "TV Show"
         ],
         "xaxis": "x",
         "y": {
          "bdata": "8xd0Cg==",
          "dtype": "i2"
         },
         "yaxis": "y"
        }
       ],
       "layout": {
        "barmode": "relative",
        "legend": {
         "tracegroupgap": 0
        },
        "template": {
         "data": {
          "bar": [
           {
            "error_x": {
             "color": "#2a3f5f"
            },
            "error_y": {
             "color": "#2a3f5f"
            },
            "marker": {
             "line": {
              "color": "#E5ECF6",
              "width": 0.5
             },
             "pattern": {
              "fillmode": "overlay",
              "size": 10,
              "solidity": 0.2
             }
            },
            "type": "bar"
           }
          ],
          "barpolar": [
           {
            "marker": {
             "line": {
              "color": "#E5ECF6",
              "width": 0.5
             },
             "pattern": {
              "fillmode": "overlay",
              "size": 10,
              "solidity": 0.2
             }
            },
            "type": "barpolar"
           }
          ],
          "carpet": [
           {
            "aaxis": {
             "endlinecolor": "#2a3f5f",
             "gridcolor": "white",
             "linecolor": "white",
             "minorgridcolor": "white",
             "startlinecolor": "#2a3f5f"
            },
            "baxis": {
             "endlinecolor": "#2a3f5f",
             "gridcolor": "white",
             "linecolor": "white",
             "minorgridcolor": "white",
             "startlinecolor": "#2a3f5f"
            },
            "type": "carpet"
           }
          ],
          "choropleth": [
           {
            "colorbar": {
             "outlinewidth": 0,
             "ticks": ""
            },
            "type": "choropleth"
           }
          ],
          "contour": [
           {
            "colorbar": {
             "outlinewidth": 0,
             "ticks": ""
            },
            "colorscale": [
             [
              0,
              "#0d0887"
             ],
             [
              0.1111111111111111,
              "#46039f"
             ],
             [
              0.2222222222222222,
              "#7201a8"
             ],
             [
              0.3333333333333333,
              "#9c179e"
             ],
             [
              0.4444444444444444,
              "#bd3786"
             ],
             [
              0.5555555555555556,
              "#d8576b"
             ],
             [
              0.6666666666666666,
              "#ed7953"
             ],
             [
              0.7777777777777778,
              "#fb9f3a"
             ],
             [
              0.8888888888888888,
              "#fdca26"
             ],
             [
              1,
              "#f0f921"
             ]
            ],
            "type": "contour"
           }
          ],
          "contourcarpet": [
           {
            "colorbar": {
             "outlinewidth": 0,
             "ticks": ""
            },
            "type": "contourcarpet"
           }
          ],
          "heatmap": [
           {
            "colorbar": {
             "outlinewidth": 0,
             "ticks": ""
            },
            "colorscale": [
             [
              0,
              "#0d0887"
             ],
             [
              0.1111111111111111,
              "#46039f"
             ],
             [
              0.2222222222222222,
              "#7201a8"
             ],
             [
              0.3333333333333333,
              "#9c179e"
             ],
             [
              0.4444444444444444,
              "#bd3786"
             ],
             [
              0.5555555555555556,
              "#d8576b"
             ],
             [
              0.6666666666666666,
              "#ed7953"
             ],
             [
              0.7777777777777778,
              "#fb9f3a"
             ],
             [
              0.8888888888888888,
              "#fdca26"
             ],
             [
              1,
              "#f0f921"
             ]
            ],
            "type": "heatmap"
           }
          ],
          "histogram": [
           {
            "marker": {
             "pattern": {
              "fillmode": "overlay",
              "size": 10,
              "solidity": 0.2
             }
            },
            "type": "histogram"
           }
          ],
          "histogram2d": [
           {
            "colorbar": {
             "outlinewidth": 0,
             "ticks": ""
            },
            "colorscale": [
             [
              0,
              "#0d0887"
             ],
             [
              0.1111111111111111,
              "#46039f"
             ],
             [
              0.2222222222222222,
              "#7201a8"
             ],
             [
              0.3333333333333333,
              "#9c179e"
             ],
             [
              0.4444444444444444,
              "#bd3786"
             ],
             [
              0.5555555555555556,
              "#d8576b"
             ],
             [
              0.6666666666666666,
              "#ed7953"
             ],
             [
              0.7777777777777778,
              "#fb9f3a"
             ],
             [
              0.8888888888888888,
              "#fdca26"
             ],
             [
              1,
              "#f0f921"
             ]
            ],
            "type": "histogram2d"
           }
          ],
          "histogram2dcontour": [
           {
            "colorbar": {
             "outlinewidth": 0,
             "ticks": ""
            },
            "colorscale": [
             [
              0,
              "#0d0887"
             ],
             [
              0.1111111111111111,
              "#46039f"
             ],
             [
              0.2222222222222222,
              "#7201a8"
             ],
             [
              0.3333333333333333,
              "#9c179e"
             ],
             [
              0.4444444444444444,
              "#bd3786"
             ],
             [
              0.5555555555555556,
              "#d8576b"
             ],
             [
              0.6666666666666666,
              "#ed7953"
             ],
             [
              0.7777777777777778,
              "#fb9f3a"
             ],
             [
              0.8888888888888888,
              "#fdca26"
             ],
             [
              1,
              "#f0f921"
             ]
            ],
            "type": "histogram2dcontour"
           }
          ],
          "mesh3d": [
           {
            "colorbar": {
             "outlinewidth": 0,
             "ticks": ""
            },
            "type": "mesh3d"
           }
          ],
          "parcoords": [
           {
            "line": {
             "colorbar": {
              "outlinewidth": 0,
              "ticks": ""
             }
            },
            "type": "parcoords"
           }
          ],
          "pie": [
           {
            "automargin": true,
            "type": "pie"
           }
          ],
          "scatter": [
           {
            "fillpattern": {
             "fillmode": "overlay",
             "size": 10,
             "solidity": 0.2
            },
            "type": "scatter"
           }
          ],
          "scatter3d": [
           {
            "line": {
             "colorbar": {
              "outlinewidth": 0,
              "ticks": ""
             }
            },
            "marker": {
             "colorbar": {
              "outlinewidth": 0,
              "ticks": ""
             }
            },
            "type": "scatter3d"
           }
          ],
          "scattercarpet": [
           {
            "marker": {
             "colorbar": {
              "outlinewidth": 0,
              "ticks": ""
             }
            },
            "type": "scattercarpet"
           }
          ],
          "scattergeo": [
           {
            "marker": {
             "colorbar": {
              "outlinewidth": 0,
              "ticks": ""
             }
            },
            "type": "scattergeo"
           }
          ],
          "scattergl": [
           {
            "marker": {
             "colorbar": {
              "outlinewidth": 0,
              "ticks": ""
             }
            },
            "type": "scattergl"
           }
          ],
          "scattermap": [
           {
            "marker": {
             "colorbar": {
              "outlinewidth": 0,
              "ticks": ""
             }
            },
            "type": "scattermap"
           }
          ],
          "scattermapbox": [
           {
            "marker": {
             "colorbar": {
              "outlinewidth": 0,
              "ticks": ""
             }
            },
            "type": "scattermapbox"
           }
          ],
          "scatterpolar": [
           {
            "marker": {
             "colorbar": {
              "outlinewidth": 0,
              "ticks": ""
             }
            },
            "type": "scatterpolar"
           }
          ],
          "scatterpolargl": [
           {
            "marker": {
             "colorbar": {
              "outlinewidth": 0,
              "ticks": ""
             }
            },
            "type": "scatterpolargl"
           }
          ],
          "scatterternary": [
           {
            "marker": {
             "colorbar": {
              "outlinewidth": 0,
              "ticks": ""
             }
            },
            "type": "scatterternary"
           }
          ],
          "surface": [
           {
            "colorbar": {
             "outlinewidth": 0,
             "ticks": ""
            },
            "colorscale": [
             [
              0,
              "#0d0887"
             ],
             [
              0.1111111111111111,
              "#46039f"
             ],
             [
              0.2222222222222222,
              "#7201a8"
             ],
             [
              0.3333333333333333,
              "#9c179e"
             ],
             [
              0.4444444444444444,
              "#bd3786"
             ],
             [
              0.5555555555555556,
              "#d8576b"
             ],
             [
              0.6666666666666666,
              "#ed7953"
             ],
             [
              0.7777777777777778,
              "#fb9f3a"
             ],
             [
              0.8888888888888888,
              "#fdca26"
             ],
             [
              1,
              "#f0f921"
             ]
            ],
            "type": "surface"
           }
          ],
          "table": [
           {
            "cells": {
             "fill": {
              "color": "#EBF0F8"
             },
             "line": {
              "color": "white"
             }
            },
            "header": {
             "fill": {
              "color": "#C8D4E3"
             },
             "line": {
              "color": "white"
             }
            },
            "type": "table"
           }
          ]
         },
         "layout": {
          "annotationdefaults": {
           "arrowcolor": "#2a3f5f",
           "arrowhead": 0,
           "arrowwidth": 1
          },
          "autotypenumbers": "strict",
          "coloraxis": {
           "colorbar": {
            "outlinewidth": 0,
            "ticks": ""
           }
          },
          "colorscale": {
           "diverging": [
            [
             0,
             "#8e0152"
            ],
            [
             0.1,
             "#c51b7d"
            ],
            [
             0.2,
             "#de77ae"
            ],
            [
             0.3,
             "#f1b6da"
            ],
            [
             0.4,
             "#fde0ef"
            ],
            [
             0.5,
             "#f7f7f7"
            ],
            [
             0.6,
             "#e6f5d0"
            ],
            [
             0.7,
             "#b8e186"
            ],
            [
             0.8,
             "#7fbc41"
            ],
            [
             0.9,
             "#4d9221"
            ],
            [
             1,
             "#276419"
            ]
           ],
           "sequential": [
            [
             0,
             "#0d0887"
            ],
            [
             0.1111111111111111,
             "#46039f"
            ],
            [
             0.2222222222222222,
             "#7201a8"
            ],
            [
             0.3333333333333333,
             "#9c179e"
            ],
            [
             0.4444444444444444,
             "#bd3786"
            ],
            [
             0.5555555555555556,
             "#d8576b"
            ],
            [
             0.6666666666666666,
             "#ed7953"
            ],
            [
             0.7777777777777778,
             "#fb9f3a"
            ],
            [
             0.8888888888888888,
             "#fdca26"
            ],
            [
             1,
             "#f0f921"
            ]
           ],
           "sequentialminus": [
            [
             0,
             "#0d0887"
            ],
            [
             0.1111111111111111,
             "#46039f"
            ],
            [
             0.2222222222222222,
             "#7201a8"
            ],
            [
             0.3333333333333333,
             "#9c179e"
            ],
            [
             0.4444444444444444,
             "#bd3786"
            ],
            [
             0.5555555555555556,
             "#d8576b"
            ],
            [
             0.6666666666666666,
             "#ed7953"
            ],
            [
             0.7777777777777778,
             "#fb9f3a"
            ],
            [
             0.8888888888888888,
             "#fdca26"
            ],
            [
             1,
             "#f0f921"
            ]
           ]
          },
          "colorway": [
           "#636efa",
           "#EF553B",
           "#00cc96",
           "#ab63fa",
           "#FFA15A",
           "#19d3f3",
           "#FF6692",
           "#B6E880",
           "#FF97FF",
           "#FECB52"
          ],
          "font": {
           "color": "#2a3f5f"
          },
          "geo": {
           "bgcolor": "white",
           "lakecolor": "white",
           "landcolor": "#E5ECF6",
           "showlakes": true,
           "showland": true,
           "subunitcolor": "white"
          },
          "hoverlabel": {
           "align": "left"
          },
          "hovermode": "closest",
          "mapbox": {
           "style": "light"
          },
          "paper_bgcolor": "white",
          "plot_bgcolor": "#E5ECF6",
          "polar": {
           "angularaxis": {
            "gridcolor": "white",
            "linecolor": "white",
            "ticks": ""
           },
           "bgcolor": "#E5ECF6",
           "radialaxis": {
            "gridcolor": "white",
            "linecolor": "white",
            "ticks": ""
           }
          },
          "scene": {
           "xaxis": {
            "backgroundcolor": "#E5ECF6",
            "gridcolor": "white",
            "gridwidth": 2,
            "linecolor": "white",
            "showbackground": true,
            "ticks": "",
            "zerolinecolor": "white"
           },
           "yaxis": {
            "backgroundcolor": "#E5ECF6",
            "gridcolor": "white",
            "gridwidth": 2,
            "linecolor": "white",
            "showbackground": true,
            "ticks": "",
            "zerolinecolor": "white"
           },
           "zaxis": {
            "backgroundcolor": "#E5ECF6",
            "gridcolor": "white",
            "gridwidth": 2,
            "linecolor": "white",
            "showbackground": true,
            "ticks": "",
            "zerolinecolor": "white"
           }
          },
          "shapedefaults": {
           "line": {
            "color": "#2a3f5f"
           }
          },
          "ternary": {
           "aaxis": {
            "gridcolor": "white",
            "linecolor": "white",
            "ticks": ""
           },
           "baxis": {
            "gridcolor": "white",
            "linecolor": "white",
            "ticks": ""
           },
           "bgcolor": "#E5ECF6",
           "caxis": {
            "gridcolor": "white",
            "linecolor": "white",
            "ticks": ""
           }
          },
          "title": {
           "x": 0.05
          },
          "xaxis": {
           "automargin": true,
           "gridcolor": "white",
           "linecolor": "white",
           "ticks": "",
           "title": {
            "standoff": 15
           },
           "zerolinecolor": "white",
           "zerolinewidth": 2
          },
          "yaxis": {
           "automargin": true,
           "gridcolor": "white",
           "linecolor": "white",
           "ticks": "",
           "title": {
            "standoff": 15
           },
           "zerolinecolor": "white",
           "zerolinewidth": 2
          }
         }
        },
        "title": {
         "text": "Top 10: type"
        },
        "xaxis": {
         "anchor": "y",
         "domain": [
          0,
          1
         ],
         "tickangle": -30,
         "title": {
          "text": "type"
         }
        },
        "yaxis": {
         "anchor": "x",
         "domain": [
          0,
          1
         ],
         "title": {
          "text": "count"
         }
        }
       }
      },
      "image/png": "[encoded data removed]"
     },
     "metadata": {},
     "output_type": "display_data"
    },
    {
     "data": {
      "application/vnd.plotly.v1+json": {
       "config": {
        "plotlyServerURL": "https://plot.ly"
       },
       "data": [
        {
         "hovertemplate": "release_year=%{x}<br>count=%{y}<extra></extra>",
         "legendgroup": "",
         "line": {
          "color": "#636efa",
          "dash": "solid"
         },
         "marker": {
          "symbol": "circle"
         },
         "mode": "lines",
         "name": "",
         "orientation": "v",
         "showlegend": false,
         "type": "scatter",
         "x": {
          "bdata": "hQeWB5cHmAeZB5oHmweiB6MHpAemB6cHqAepB6oHqwesB60HrgevB7AHsQeyB7MHtAe1B7YHtwe4B7kHuge7B7wHvQe+B78HwAfBB8IHwwfEB8UHxgfHB8gHyQfKB8sHzAfNB84HzwfQB9EH0gfTB9QH1QfWB9cH2AfZB9oH2wfcB90H3gffB+AH4QfiB+MH5AflBw==",
          "dtype": "i2"
         },
         "xaxis": "x",
         "y": {
          "bdata": "AQACAAMAAwAEAAIAAQACAAMAAgADAAEABAABAAMAAgACAAIAAQAFAAMAAgACAAUABQAKAAcABwAJAAcABwALAAsADQARAAsADAAKAA0ACAASABAAFgARABcAHAAWABkAGAAmACQAJwAlAC0AMwA9AEAAUABgAFgAiACYAMIAuQDtACABYAEwAoYDCAR7BAYEuQNQAg==",
          "dtype": "i2"
         },
         "yaxis": "y"
        }
       ],
       "layout": {
        "legend": {
         "tracegroupgap": 0
        },
        "template": {
         "data": {
          "bar": [
           {
            "error_x": {
             "color": "#2a3f5f"
            },
            "error_y": {
             "color": "#2a3f5f"
            },
            "marker": {
             "line": {
              "color": "#E5ECF6",
              "width": 0.5
             },
             "pattern": {
              "fillmode": "overlay",
              "size": 10,
              "solidity": 0.2
             }
            },
            "type": "bar"
           }
          ],
          "barpolar": [
           {
            "marker": {
             "line": {
              "color": "#E5ECF6",
              "width": 0.5
             },
             "pattern": {
              "fillmode": "overlay",
              "size": 10,
              "solidity": 0.2
             }
            },
            "type": "barpolar"
           }
          ],
          "carpet": [
           {
            "aaxis": {
             "endlinecolor": "#2a3f5f",
             "gridcolor": "white",
             "linecolor": "white",
             "minorgridcolor": "white",
             "startlinecolor": "#2a3f5f"
            },
            "baxis": {
             "endlinecolor": "#2a3f5f",
             "gridcolor": "white",
             "linecolor": "white",
             "minorgridcolor": "white",
             "startlinecolor": "#2a3f5f"
            },
            "type": "carpet"
           }
          ],
          "choropleth": [
           {
            "colorbar": {
             "outlinewidth": 0,
             "ticks": ""
            },
            "type": "choropleth"
           }
          ],
          "contour": [
           {
            "colorbar": {
             "outlinewidth": 0,
             "ticks": ""
            },
            "colorscale": [
             [
              0,
              "#0d0887"
             ],
             [
              0.1111111111111111,
              "#46039f"
             ],
             [
              0.2222222222222222,
              "#7201a8"
             ],
             [
              0.3333333333333333,
              "#9c179e"
             ],
             [
              0.4444444444444444,
              "#bd3786"
             ],
             [
              0.5555555555555556,
              "#d8576b"
             ],
             [
              0.6666666666666666,
              "#ed7953"
             ],
             [
              0.7777777777777778,
              "#fb9f3a"
             ],
             [
              0.8888888888888888,
              "#fdca26"
             ],
             [
              1,
              "#f0f921"
             ]
            ],
            "type": "contour"
           }
          ],
          "contourcarpet": [
           {
            "colorbar": {
             "outlinewidth": 0,
             "ticks": ""
            },
            "type": "contourcarpet"
           }
          ],
          "heatmap": [
           {
            "colorbar": {
             "outlinewidth": 0,
             "ticks": ""
            },
            "colorscale": [
             [
              0,
              "#0d0887"
             ],
             [
              0.1111111111111111,
              "#46039f"
             ],
             [
              0.2222222222222222,
              "#7201a8"
             ],
             [
              0.3333333333333333,
              "#9c179e"
             ],
             [
              0.4444444444444444,
              "#bd3786"
             ],
             [
              0.5555555555555556,
              "#d8576b"
             ],
             [
              0.6666666666666666,
              "#ed7953"
             ],
             [
              0.7777777777777778,
              "#fb9f3a"
             ],
             [
              0.8888888888888888,
              "#fdca26"
             ],
             [
              1,
              "#f0f921"
             ]
            ],
            "type": "heatmap"
           }
          ],
          "histogram": [
           {
            "marker": {
             "pattern": {
              "fillmode": "overlay",
              "size": 10,
              "solidity": 0.2
             }
            },
            "type": "histogram"
           }
          ],
          "histogram2d": [
           {
            "colorbar": {
             "outlinewidth": 0,
             "ticks": ""
            },
            "colorscale": [
             [
              0,
              "#0d0887"
             ],
             [
              0.1111111111111111,
              "#46039f"
             ],
             [
              0.2222222222222222,
              "#7201a8"
             ],
             [
              0.3333333333333333,
              "#9c179e"
             ],
             [
              0.4444444444444444,
              "#bd3786"
             ],
             [
              0.5555555555555556,
              "#d8576b"
             ],
             [
              0.6666666666666666,
              "#ed7953"
             ],
             [
              0.7777777777777778,
              "#fb9f3a"
             ],
             [
              0.8888888888888888,
              "#fdca26"
             ],
             [
              1,
              "#f0f921"
             ]
            ],
            "type": "histogram2d"
           }
          ],
          "histogram2dcontour": [
           {
            "colorbar": {
             "outlinewidth": 0,
             "ticks": ""
            },
            "colorscale": [
             [
              0,
              "#0d0887"
             ],
             [
              0.1111111111111111,
              "#46039f"
             ],
             [
              0.2222222222222222,
              "#7201a8"
             ],
             [
              0.3333333333333333,
              "#9c179e"
             ],
             [
              0.4444444444444444,
              "#bd3786"
             ],
             [
              0.5555555555555556,
              "#d8576b"
             ],
             [
              0.6666666666666666,
              "#ed7953"
             ],
             [
              0.7777777777777778,
              "#fb9f3a"
             ],
             [
              0.8888888888888888,
              "#fdca26"
             ],
             [
              1,
              "#f0f921"
             ]
            ],
            "type": "histogram2dcontour"
           }
          ],
          "mesh3d": [
           {
            "colorbar": {
             "outlinewidth": 0,
             "ticks": ""
            },
            "type": "mesh3d"
           }
          ],
          "parcoords": [
           {
            "line": {
             "colorbar": {
              "outlinewidth": 0,
              "ticks": ""
             }
            },
            "type": "parcoords"
           }
          ],
          "pie": [
           {
            "automargin": true,
            "type": "pie"
           }
          ],
          "scatter": [
           {
            "fillpattern": {
             "fillmode": "overlay",
             "size": 10,
             "solidity": 0.2
            },
            "type": "scatter"
           }
          ],
          "scatter3d": [
           {
            "line": {
             "colorbar": {
              "outlinewidth": 0,
              "ticks": ""
             }
            },
            "marker": {
             "colorbar": {
              "outlinewidth": 0,
              "ticks": ""
             }
            },
            "type": "scatter3d"
           }
          ],
          "scattercarpet": [
           {
            "marker": {
             "colorbar": {
              "outlinewidth": 0,
              "ticks": ""
             }
            },
            "type": "scattercarpet"
           }
          ],
          "scattergeo": [
           {
            "marker": {
             "colorbar": {
              "outlinewidth": 0,
              "ticks": ""
             }
            },
            "type": "scattergeo"
           }
          ],
          "scattergl": [
           {
            "marker": {
             "colorbar": {
              "outlinewidth": 0,
              "ticks": ""
             }
            },
            "type": "scattergl"
           }
          ],
          "scattermap": [
           {
            "marker": {
             "colorbar": {
              "outlinewidth": 0,
              "ticks": ""
             }
            },
            "type": "scattermap"
           }
          ],
          "scattermapbox": [
           {
            "marker": {
             "colorbar": {
              "outlinewidth": 0,
              "ticks": ""
             }
            },
            "type": "scattermapbox"
           }
          ],
          "scatterpolar": [
           {
            "marker": {
             "colorbar": {
              "outlinewidth": 0,
              "ticks": ""
             }
            },
            "type": "scatterpolar"
           }
          ],
          "scatterpolargl": [
           {
            "marker": {
             "colorbar": {
              "outlinewidth": 0,
              "ticks": ""
             }
            },
            "type": "scatterpolargl"
           }
          ],
          "scatterternary": [
           {
            "marker": {
             "colorbar": {
              "outlinewidth": 0,
              "ticks": ""
             }
            },
            "type": "scatterternary"
           }
          ],
          "surface": [
           {
            "colorbar": {
             "outlinewidth": 0,
             "ticks": ""
            },
            "colorscale": [
             [
              0,
              "#0d0887"
             ],
             [
              0.1111111111111111,
              "#46039f"
             ],
             [
              0.2222222222222222,
              "#7201a8"
             ],
             [
              0.3333333333333333,
              "#9c179e"
             ],
             [
              0.4444444444444444,
              "#bd3786"
             ],
             [
              0.5555555555555556,
              "#d8576b"
             ],
             [
              0.6666666666666666,
              "#ed7953"
             ],
             [
              0.7777777777777778,
              "#fb9f3a"
             ],
             [
              0.8888888888888888,
              "#fdca26"
             ],
             [
              1,
              "#f0f921"
             ]
            ],
            "type": "surface"
           }
          ],
          "table": [
           {
            "cells": {
             "fill": {
              "color": "#EBF0F8"
             },
             "line": {
              "color": "white"
             }
            },
            "header": {
             "fill": {
              "color": "#C8D4E3"
             },
             "line": {
              "color": "white"
             }
            },
            "type": "table"
           }
          ]
         },
         "layout": {
          "annotationdefaults": {
           "arrowcolor": "#2a3f5f",
           "arrowhead": 0,
           "arrowwidth": 1
          },
          "autotypenumbers": "strict",
          "coloraxis": {
           "colorbar": {
            "outlinewidth": 0,
            "ticks": ""
           }
          },
          "colorscale": {
           "diverging": [
            [
             0,
             "#8e0152"
            ],
            [
             0.1,
             "#c51b7d"
            ],
            [
             0.2,
             "#de77ae"
            ],
            [
             0.3,
             "#f1b6da"
            ],
            [
             0.4,
             "#fde0ef"
            ],
            [
             0.5,
             "#f7f7f7"
            ],
            [
             0.6,
             "#e6f5d0"
            ],
            [
             0.7,
             "#b8e186"
            ],
            [
             0.8,
             "#7fbc41"
            ],
            [
             0.9,
             "#4d9221"
            ],
            [
             1,
             "#276419"
            ]
           ],
           "sequential": [
            [
             0,
             "#0d0887"
            ],
            [
             0.1111111111111111,
             "#46039f"
            ],
            [
             0.2222222222222222,
             "#7201a8"
            ],
            [
             0.3333333333333333,
             "#9c179e"
            ],
            [
             0.4444444444444444,
             "#bd3786"
            ],
            [
             0.5555555555555556,
             "#d8576b"
            ],
            [
             0.6666666666666666,
             "#ed7953"
            ],
            [
             0.7777777777777778,
             "#fb9f3a"
            ],
            [
             0.8888888888888888,
             "#fdca26"
            ],
            [
             1,
             "#f0f921"
            ]
           ],
           "sequentialminus": [
            [
             0,
             "#0d0887"
            ],
            [
             0.1111111111111111,
             "#46039f"
            ],
            [
             0.2222222222222222,
             "#7201a8"
            ],
            [
             0.3333333333333333,
             "#9c179e"
            ],
            [
             0.4444444444444444,
             "#bd3786"
            ],
            [
             0.5555555555555556,
             "#d8576b"
            ],
            [
             0.6666666666666666,
             "#ed7953"
            ],
            [
             0.7777777777777778,
             "#fb9f3a"
            ],
            [
             0.8888888888888888,
             "#fdca26"
            ],
            [
             1,
             "#f0f921"
            ]
           ]
          },
          "colorway": [
           "#636efa",
           "#EF553B",
           "#00cc96",
           "#ab63fa",
           "#FFA15A",
           "#19d3f3",
           "#FF6692",
           "#B6E880",
           "#FF97FF",
           "#FECB52"
          ],
          "font": {
           "color": "#2a3f5f"
          },
          "geo": {
           "bgcolor": "white",
           "lakecolor": "white",
           "landcolor": "#E5ECF6",
           "showlakes": true,
           "showland": true,
           "subunitcolor": "white"
          },
          "hoverlabel": {
           "align": "left"
          },
          "hovermode": "closest",
          "mapbox": {
           "style": "light"
          },
          "paper_bgcolor": "white",
          "plot_bgcolor": "#E5ECF6",
          "polar": {
           "angularaxis": {
            "gridcolor": "white",
            "linecolor": "white",
            "ticks": ""
           },
           "bgcolor": "#E5ECF6",
           "radialaxis": {
            "gridcolor": "white",
            "linecolor": "white",
            "ticks": ""
           }
          },
          "scene": {
           "xaxis": {
            "backgroundcolor": "#E5ECF6",
            "gridcolor": "white",
            "gridwidth": 2,
            "linecolor": "white",
            "showbackground": true,
            "ticks": "",
            "zerolinecolor": "white"
           },
           "yaxis": {
            "backgroundcolor": "#E5ECF6",
            "gridcolor": "white",
            "gridwidth": 2,
            "linecolor": "white",
            "showbackground": true,
            "ticks": "",
            "zerolinecolor": "white"
           },
           "zaxis": {
            "backgroundcolor": "#E5ECF6",
            "gridcolor": "white",
            "gridwidth": 2,
            "linecolor": "white",
            "showbackground": true,
            "ticks": "",
            "zerolinecolor": "white"
           }
          },
          "shapedefaults": {
           "line": {
            "color": "#2a3f5f"
           }
          },
          "ternary": {
           "aaxis": {
            "gridcolor": "white",
            "linecolor": "white",
            "ticks": ""
           },
           "baxis": {
            "gridcolor": "white",
            "linecolor": "white",
            "ticks": ""
           },
           "bgcolor": "#E5ECF6",
           "caxis": {
            "gridcolor": "white",
            "linecolor": "white",
            "ticks": ""
           }
          },
          "title": {
           "x": 0.05
          },
          "xaxis": {
           "automargin": true,
           "gridcolor": "white",
           "linecolor": "white",
           "ticks": "",
           "title": {
            "standoff": 15
           },
           "zerolinecolor": "white",
           "zerolinewidth": 2
          },
          "yaxis": {
           "automargin": true,
           "gridcolor": "white",
           "linecolor": "white",
           "ticks": "",
           "title": {
            "standoff": 15
           },
           "zerolinecolor": "white",
           "zerolinewidth": 2
          }
         }
        },
        "title": {
         "text": "Count by Year: release_year"
        },
        "xaxis": {
         "anchor": "y",
         "domain": [
          0,
          1
         ],
         "title": {
          "text": "release_year"
         }
        },
        "yaxis": {
         "anchor": "x",
         "domain": [
          0,
          1
         ],
         "title": {
          "text": "count"
         }
        }
       }
      },
      "image/png": "[encoded data removed]"
     },
     "metadata": {},
     "output_type": "display_data"
    },
    {
     "data": {
      "text/plain": [
       "{'ok': True, 'type': 'year-int'}"
      ]
     },
     "execution_count": 19,
     "metadata": {},
     "output_type": "execute_result"
    }
   ],
   "source": [
    "# Load a CSV\n",
    "print(invoke_tool(\"load_data\", {\"path\": \"netflix_titles_CLEANED.csv\"}))\n",
    "\n",
    "# (Optional) let “LLM” set a schema it decided\n",
    "schema = {\n",
    "    \"numeric\": [\"release_year\"],\n",
    "    \"categorical\": [\"type\", \"country\"],\n",
    "    \"datetime\": [],\n",
    "    \"temporal\": [\"release_year\"],\n",
    "    \"unique_id\": [\"show_id\"],\n",
    "    \"unclassified\": [],\n",
    "}\n",
    "print(invoke_tool(\"set_schema\", {\"schema\": schema}))\n",
    "print(invoke_tool(\"get_schema\"))\n",
    "\n",
    "# Ask for a summary\n",
    "res = invoke_tool(\"summary\", {\"numeric_only\": True})\n",
    "print({k: v for k, v in res.items() if k != \"describe\"})  # avoid spamming output\n",
    "\n",
    "# Top categories (LLM chooses which columns)\n",
    "invoke_tool(\"top_categories\", {\"columns\": [\"type\", \"country\"], \"top_n\": 10})\n",
    "\n",
    "# Correlations (LLM decides columns)\n",
    "invoke_tool(\"correlations\", {\"columns\": [\"release_year\"]})\n",
    "\n",
    "# Time trend (LLM picks the temporal column)\n",
    "invoke_tool(\"time_trend\", {\"column\": \"release_year\", \"freq\": \"Y\"})\n"
   ]
  },
  {
   "cell_type": "code",
   "execution_count": 20,
   "id": "7494af1a-377e-42ea-9086-da2a42b09f51",
   "metadata": {},
   "outputs": [
    {
     "name": "stdout",
     "output_type": "stream",
     "text": [
      "Collecting mcp\n",
      "  Downloading mcp-1.20.0-py3-none-any.whl.metadata (85 kB)\n",
      "Requirement already satisfied: pandas in d:\\jupyter python\\conversational analyst\\venv\\lib\\site-packages (2.3.3)\n",
      "Requirement already satisfied: numpy in d:\\jupyter python\\conversational analyst\\venv\\lib\\site-packages (2.3.4)\n",
      "Requirement already satisfied: plotly in d:\\jupyter python\\conversational analyst\\venv\\lib\\site-packages (6.3.1)\n",
      "Requirement already satisfied: anyio>=4.5 in d:\\jupyter python\\conversational analyst\\venv\\lib\\site-packages (from mcp) (4.11.0)\n",
      "Collecting httpx-sse>=0.4 (from mcp)\n",
      "  Downloading httpx_sse-0.4.3-py3-none-any.whl.metadata (9.7 kB)\n",
      "Requirement already satisfied: httpx>=0.27.1 in d:\\jupyter python\\conversational analyst\\venv\\lib\\site-packages (from mcp) (0.28.1)\n",
      "Requirement already satisfied: jsonschema>=4.20.0 in d:\\jupyter python\\conversational analyst\\venv\\lib\\site-packages (from mcp) (4.25.1)\n",
      "Collecting pydantic-settings>=2.5.2 (from mcp)\n",
      "  Downloading pydantic_settings-2.11.0-py3-none-any.whl.metadata (3.4 kB)\n",
      "Collecting pydantic<3.0.0,>=2.11.0 (from mcp)\n",
      "  Downloading pydantic-2.12.3-py3-none-any.whl.metadata (87 kB)\n",
      "Collecting pyjwt>=2.10.1 (from pyjwt[crypto]>=2.10.1->mcp)\n",
      "  Downloading PyJWT-2.10.1-py3-none-any.whl.metadata (4.0 kB)\n",
      "Collecting python-multipart>=0.0.9 (from mcp)\n",
      "  Downloading python_multipart-0.0.20-py3-none-any.whl.metadata (1.8 kB)\n",
      "Collecting pywin32>=310 (from mcp)\n",
      "  Downloading pywin32-311-cp313-cp313-win_amd64.whl.metadata (10 kB)\n",
      "Collecting sse-starlette>=1.6.1 (from mcp)\n",
      "  Downloading sse_starlette-3.0.3-py3-none-any.whl.metadata (12 kB)\n",
      "Collecting starlette>=0.27 (from mcp)\n",
      "  Downloading starlette-0.49.1-py3-none-any.whl.metadata (6.4 kB)\n",
      "Collecting uvicorn>=0.31.1 (from mcp)\n",
      "  Downloading uvicorn-0.38.0-py3-none-any.whl.metadata (6.8 kB)\n",
      "Collecting annotated-types>=0.6.0 (from pydantic<3.0.0,>=2.11.0->mcp)\n",
      "  Downloading annotated_types-0.7.0-py3-none-any.whl.metadata (15 kB)\n",
      "Collecting pydantic-core==2.41.4 (from pydantic<3.0.0,>=2.11.0->mcp)\n",
      "  Downloading pydantic_core-2.41.4-cp313-cp313-win_amd64.whl.metadata (7.4 kB)\n",
      "Requirement already satisfied: typing-extensions>=4.14.1 in d:\\jupyter python\\conversational analyst\\venv\\lib\\site-packages (from pydantic<3.0.0,>=2.11.0->mcp) (4.15.0)\n",
      "Collecting typing-inspection>=0.4.2 (from pydantic<3.0.0,>=2.11.0->mcp)\n",
      "  Downloading typing_inspection-0.4.2-py3-none-any.whl.metadata (2.6 kB)\n",
      "Requirement already satisfied: python-dateutil>=2.8.2 in d:\\jupyter python\\conversational analyst\\venv\\lib\\site-packages (from pandas) (2.9.0.post0)\n",
      "Requirement already satisfied: pytz>=2020.1 in d:\\jupyter python\\conversational analyst\\venv\\lib\\site-packages (from pandas) (2025.2)\n",
      "Requirement already satisfied: tzdata>=2022.7 in d:\\jupyter python\\conversational analyst\\venv\\lib\\site-packages (from pandas) (2025.2)\n",
      "Requirement already satisfied: narwhals>=1.15.1 in d:\\jupyter python\\conversational analyst\\venv\\lib\\site-packages (from plotly) (2.10.0)\n",
      "Requirement already satisfied: packaging in d:\\jupyter python\\conversational analyst\\venv\\lib\\site-packages (from plotly) (25.0)\n",
      "Requirement already satisfied: idna>=2.8 in d:\\jupyter python\\conversational analyst\\venv\\lib\\site-packages (from anyio>=4.5->mcp) (3.11)\n",
      "Requirement already satisfied: sniffio>=1.1 in d:\\jupyter python\\conversational analyst\\venv\\lib\\site-packages (from anyio>=4.5->mcp) (1.3.1)\n",
      "Requirement already satisfied: certifi in d:\\jupyter python\\conversational analyst\\venv\\lib\\site-packages (from httpx>=0.27.1->mcp) (2025.10.5)\n",
      "Requirement already satisfied: httpcore==1.* in d:\\jupyter python\\conversational analyst\\venv\\lib\\site-packages (from httpx>=0.27.1->mcp) (1.0.9)\n",
      "Requirement already satisfied: h11>=0.16 in d:\\jupyter python\\conversational analyst\\venv\\lib\\site-packages (from httpcore==1.*->httpx>=0.27.1->mcp) (0.16.0)\n",
      "Requirement already satisfied: attrs>=22.2.0 in d:\\jupyter python\\conversational analyst\\venv\\lib\\site-packages (from jsonschema>=4.20.0->mcp) (25.4.0)\n",
      "Requirement already satisfied: jsonschema-specifications>=2023.03.6 in d:\\jupyter python\\conversational analyst\\venv\\lib\\site-packages (from jsonschema>=4.20.0->mcp) (2025.9.1)\n",
      "Requirement already satisfied: referencing>=0.28.4 in d:\\jupyter python\\conversational analyst\\venv\\lib\\site-packages (from jsonschema>=4.20.0->mcp) (0.37.0)\n",
      "Requirement already satisfied: rpds-py>=0.7.1 in d:\\jupyter python\\conversational analyst\\venv\\lib\\site-packages (from jsonschema>=4.20.0->mcp) (0.28.0)\n",
      "Collecting python-dotenv>=0.21.0 (from pydantic-settings>=2.5.2->mcp)\n",
      "  Downloading python_dotenv-1.2.1-py3-none-any.whl.metadata (25 kB)\n",
      "Collecting cryptography>=3.4.0 (from pyjwt[crypto]>=2.10.1->mcp)\n",
      "  Downloading cryptography-46.0.3-cp311-abi3-win_amd64.whl.metadata (5.7 kB)\n",
      "Requirement already satisfied: cffi>=2.0.0 in d:\\jupyter python\\conversational analyst\\venv\\lib\\site-packages (from cryptography>=3.4.0->pyjwt[crypto]>=2.10.1->mcp) (2.0.0)\n",
      "Requirement already satisfied: pycparser in d:\\jupyter python\\conversational analyst\\venv\\lib\\site-packages (from cffi>=2.0.0->cryptography>=3.4.0->pyjwt[crypto]>=2.10.1->mcp) (2.23)\n",
      "Requirement already satisfied: six>=1.5 in d:\\jupyter python\\conversational analyst\\venv\\lib\\site-packages (from python-dateutil>=2.8.2->pandas) (1.17.0)\n",
      "Collecting click>=7.0 (from uvicorn>=0.31.1->mcp)\n",
      "  Downloading click-8.3.0-py3-none-any.whl.metadata (2.6 kB)\n",
      "Requirement already satisfied: colorama in d:\\jupyter python\\conversational analyst\\venv\\lib\\site-packages (from click>=7.0->uvicorn>=0.31.1->mcp) (0.4.6)\n",
      "Downloading mcp-1.20.0-py3-none-any.whl (173 kB)\n",
      "Downloading pydantic-2.12.3-py3-none-any.whl (462 kB)\n",
      "Downloading pydantic_core-2.41.4-cp313-cp313-win_amd64.whl (2.0 MB)\n",
      "   ---------------------------------------- 0.0/2.0 MB ? eta -:--:--\n",
      "   ---------------------------------------- 2.0/2.0 MB 29.2 MB/s eta 0:00:00\n",
      "Downloading annotated_types-0.7.0-py3-none-any.whl (13 kB)\n",
      "Downloading httpx_sse-0.4.3-py3-none-any.whl (9.0 kB)\n",
      "Downloading pydantic_settings-2.11.0-py3-none-any.whl (48 kB)\n",
      "Downloading PyJWT-2.10.1-py3-none-any.whl (22 kB)\n",
      "Downloading cryptography-46.0.3-cp311-abi3-win_amd64.whl (3.5 MB)\n",
      "   ---------------------------------------- 0.0/3.5 MB ? eta -:--:--\n",
      "   ---------------------------------------- 3.5/3.5 MB 38.7 MB/s eta 0:00:00\n",
      "Downloading python_dotenv-1.2.1-py3-none-any.whl (21 kB)\n",
      "Downloading python_multipart-0.0.20-py3-none-any.whl (24 kB)\n",
      "Downloading pywin32-311-cp313-cp313-win_amd64.whl (9.5 MB)\n",
      "   ---------------------------------------- 0.0/9.5 MB ? eta -:--:--\n",
      "   ---------------------------------------  9.4/9.5 MB 52.0 MB/s eta 0:00:01\n",
      "   ---------------------------------------- 9.5/9.5 MB 35.9 MB/s eta 0:00:00\n",
      "Downloading sse_starlette-3.0.3-py3-none-any.whl (11 kB)\n",
      "Downloading starlette-0.49.1-py3-none-any.whl (74 kB)\n",
      "Downloading typing_inspection-0.4.2-py3-none-any.whl (14 kB)\n",
      "Downloading uvicorn-0.38.0-py3-none-any.whl (68 kB)\n",
      "Downloading click-8.3.0-py3-none-any.whl (107 kB)\n",
      "Installing collected packages: pywin32, typing-inspection, python-multipart, python-dotenv, pyjwt, pydantic-core, httpx-sse, click, annotated-types, uvicorn, starlette, sse-starlette, pydantic, cryptography, pydantic-settings, mcp\n",
      "\n",
      "   ----------------------------------------  0/16 [pywin32]\n",
      "   ----------------------------------------  0/16 [pywin32]\n",
      "   ----------------------------------------  0/16 [pywin32]\n",
      "   ----------------------------------------  0/16 [pywin32]\n",
      "   ----------------------------------------  0/16 [pywin32]\n",
      "   ----------------------------------------  0/16 [pywin32]\n",
      "   ----------------------------------------  0/16 [pywin32]\n",
      "   ----------------------------------------  0/16 [pywin32]\n",
      "   ----------------------------------------  0/16 [pywin32]\n",
      "   ----------------------------------------  0/16 [pywin32]\n",
      "   ----------------------------------------  0/16 [pywin32]\n",
      "   ----------------------------------------  0/16 [pywin32]\n",
      "   ----------------------------------------  0/16 [pywin32]\n",
      "   ----------------------------------------  0/16 [pywin32]\n",
      "   ----------------------------------------  0/16 [pywin32]\n",
      "   ----------------------------------------  0/16 [pywin32]\n",
      "   ----------------------------------------  0/16 [pywin32]\n",
      "   ----------------------------------------  0/16 [pywin32]\n",
      "   ----------------------------------------  0/16 [pywin32]\n",
      "   ----------------------------------------  0/16 [pywin32]\n",
      "   ----------------------------------------  0/16 [pywin32]\n",
      "   ----------------------------------------  0/16 [pywin32]\n",
      "   ----------------------------------------  0/16 [pywin32]\n",
      "   ----------------------------------------  0/16 [pywin32]\n",
      "   ----------------------------------------  0/16 [pywin32]\n",
      "   ----------------------------------------  0/16 [pywin32]\n",
      "   ----------------------------------------  0/16 [pywin32]\n",
      "   ----------------------------------------  0/16 [pywin32]\n",
      "   ----------------------------------------  0/16 [pywin32]\n",
      "   ----------------------------------------  0/16 [pywin32]\n",
      "   ----------------------------------------  0/16 [pywin32]\n",
      "   ----------------------------------------  0/16 [pywin32]\n",
      "   ----------------------------------------  0/16 [pywin32]\n",
      "   ----------------------------------------  0/16 [pywin32]\n",
      "   ----------------------------------------  0/16 [pywin32]\n",
      "   ----------------------------------------  0/16 [pywin32]\n",
      "   ----------------------------------------  0/16 [pywin32]\n",
      "   ----------------------------------------  0/16 [pywin32]\n",
      "   ----------------------------------------  0/16 [pywin32]\n",
      "   ----------------------------------------  0/16 [pywin32]\n",
      "   ----------------------------------------  0/16 [pywin32]\n",
      "   ----------------------------------------  0/16 [pywin32]\n",
      "   ----------------------------------------  0/16 [pywin32]\n",
      "   ----------------------------------------  0/16 [pywin32]\n",
      "   ----------------------------------------  0/16 [pywin32]\n",
      "   ----------------------------------------  0/16 [pywin32]\n",
      "   ----------------------------------------  0/16 [pywin32]\n",
      "   ----------------------------------------  0/16 [pywin32]\n",
      "   ----------------------------------------  0/16 [pywin32]\n",
      "   ----------------------------------------  0/16 [pywin32]\n",
      "   ----------------------------------------  0/16 [pywin32]\n",
      "   ----------------------------------------  0/16 [pywin32]\n",
      "   ----------------------------------------  0/16 [pywin32]\n",
      "   ----------------------------------------  0/16 [pywin32]\n",
      "   ----------------------------------------  0/16 [pywin32]\n",
      "   ----------------------------------------  0/16 [pywin32]\n",
      "   ----------------------------------------  0/16 [pywin32]\n",
      "   ----------------------------------------  0/16 [pywin32]\n",
      "   ----------------------------------------  0/16 [pywin32]\n",
      "   ----------------------------------------  0/16 [pywin32]\n",
      "   ----------------------------------------  0/16 [pywin32]\n",
      "   ----------------------------------------  0/16 [pywin32]\n",
      "   ----------------------------------------  0/16 [pywin32]\n",
      "   ----------------------------------------  0/16 [pywin32]\n",
      "   ----------------------------------------  0/16 [pywin32]\n",
      "   ----------------------------------------  0/16 [pywin32]\n",
      "   -- -------------------------------------  1/16 [typing-inspection]\n",
      "   ----- ----------------------------------  2/16 [python-multipart]\n",
      "   ------- --------------------------------  3/16 [python-dotenv]\n",
      "   ------- --------------------------------  3/16 [python-dotenv]\n",
      "   ---------- -----------------------------  4/16 [pyjwt]\n",
      "   ---------- -----------------------------  4/16 [pyjwt]\n",
      "   ------------ ---------------------------  5/16 [pydantic-core]\n",
      "   --------------- ------------------------  6/16 [httpx-sse]\n",
      "   --------------- ------------------------  6/16 [httpx-sse]\n",
      "   ----------------- ----------------------  7/16 [click]\n",
      "   ----------------- ----------------------  7/16 [click]\n",
      "   ----------------- ----------------------  7/16 [click]\n",
      "   ---------------------- -----------------  9/16 [uvicorn]\n",
      "   ---------------------- -----------------  9/16 [uvicorn]\n",
      "   ---------------------- -----------------  9/16 [uvicorn]\n",
      "   ---------------------- -----------------  9/16 [uvicorn]\n",
      "   ---------------------- -----------------  9/16 [uvicorn]\n",
      "   ---------------------- -----------------  9/16 [uvicorn]\n",
      "   ---------------------- -----------------  9/16 [uvicorn]\n",
      "   ------------------------- -------------- 10/16 [starlette]\n",
      "   ------------------------- -------------- 10/16 [starlette]\n",
      "   ------------------------- -------------- 10/16 [starlette]\n",
      "   ------------------------- -------------- 10/16 [starlette]\n",
      "   ------------------------- -------------- 10/16 [starlette]\n",
      "   ------------------------- -------------- 10/16 [starlette]\n",
      "   --------------------------- ------------ 11/16 [sse-starlette]\n",
      "   ------------------------------ --------- 12/16 [pydantic]\n",
      "   ------------------------------ --------- 12/16 [pydantic]\n",
      "   ------------------------------ --------- 12/16 [pydantic]\n",
      "   ------------------------------ --------- 12/16 [pydantic]\n",
      "   ------------------------------ --------- 12/16 [pydantic]\n",
      "   ------------------------------ --------- 12/16 [pydantic]\n",
      "   ------------------------------ --------- 12/16 [pydantic]\n",
      "   ------------------------------ --------- 12/16 [pydantic]\n",
      "   ------------------------------ --------- 12/16 [pydantic]\n",
      "   ------------------------------ --------- 12/16 [pydantic]\n",
      "   ------------------------------ --------- 12/16 [pydantic]\n",
      "   ------------------------------ --------- 12/16 [pydantic]\n",
      "   ------------------------------ --------- 12/16 [pydantic]\n",
      "   ------------------------------ --------- 12/16 [pydantic]\n",
      "   ------------------------------ --------- 12/16 [pydantic]\n",
      "   ------------------------------ --------- 12/16 [pydantic]\n",
      "   ------------------------------ --------- 12/16 [pydantic]\n",
      "   -------------------------------- ------- 13/16 [cryptography]\n",
      "   -------------------------------- ------- 13/16 [cryptography]\n",
      "   -------------------------------- ------- 13/16 [cryptography]\n",
      "   -------------------------------- ------- 13/16 [cryptography]\n",
      "   -------------------------------- ------- 13/16 [cryptography]\n",
      "   -------------------------------- ------- 13/16 [cryptography]\n",
      "   -------------------------------- ------- 13/16 [cryptography]\n",
      "   -------------------------------- ------- 13/16 [cryptography]\n",
      "   -------------------------------- ------- 13/16 [cryptography]\n",
      "   -------------------------------- ------- 13/16 [cryptography]\n",
      "   ----------------------------------- ---- 14/16 [pydantic-settings]\n",
      "   ----------------------------------- ---- 14/16 [pydantic-settings]\n",
      "   ----------------------------------- ---- 14/16 [pydantic-settings]\n",
      "   ----------------------------------- ---- 14/16 [pydantic-settings]\n",
      "   ------------------------------------- -- 15/16 [mcp]\n",
      "   ------------------------------------- -- 15/16 [mcp]\n",
      "   ------------------------------------- -- 15/16 [mcp]\n",
      "   ------------------------------------- -- 15/16 [mcp]\n",
      "   ------------------------------------- -- 15/16 [mcp]\n",
      "   ------------------------------------- -- 15/16 [mcp]\n",
      "   ------------------------------------- -- 15/16 [mcp]\n",
      "   ------------------------------------- -- 15/16 [mcp]\n",
      "   ------------------------------------- -- 15/16 [mcp]\n",
      "   ------------------------------------- -- 15/16 [mcp]\n",
      "   ------------------------------------- -- 15/16 [mcp]\n",
      "   ------------------------------------- -- 15/16 [mcp]\n",
      "   ---------------------------------------- 16/16 [mcp]\n",
      "\n",
      "Successfully installed annotated-types-0.7.0 click-8.3.0 cryptography-46.0.3 httpx-sse-0.4.3 mcp-1.20.0 pydantic-2.12.3 pydantic-core-2.41.4 pydantic-settings-2.11.0 pyjwt-2.10.1 python-dotenv-1.2.1 python-multipart-0.0.20 pywin32-311 sse-starlette-3.0.3 starlette-0.49.1 typing-inspection-0.4.2 uvicorn-0.38.0\n"
     ]
    },
    {
     "name": "stderr",
     "output_type": "stream",
     "text": [
      "\n",
      "[notice] A new release of pip is available: 25.1.1 -> 25.3\n",
      "[notice] To update, run: python.exe -m pip install --upgrade pip\n"
     ]
    }
   ],
   "source": [
    "!pip install mcp pandas numpy plotly"
   ]
  },
  {
   "cell_type": "code",
   "execution_count": 21,
   "id": "91b0a5a7-f893-45cf-a0cf-1a1718c66e54",
   "metadata": {},
   "outputs": [
    {
     "name": "stdout",
     "output_type": "stream",
     "text": [
      "Requirement already satisfied: mcp in d:\\jupyter python\\conversational analyst\\venv\\lib\\site-packages (1.20.0)\n",
      "Requirement already satisfied: anyio>=4.5 in d:\\jupyter python\\conversational analyst\\venv\\lib\\site-packages (from mcp) (4.11.0)\n",
      "Requirement already satisfied: httpx-sse>=0.4 in d:\\jupyter python\\conversational analyst\\venv\\lib\\site-packages (from mcp) (0.4.3)\n",
      "Requirement already satisfied: httpx>=0.27.1 in d:\\jupyter python\\conversational analyst\\venv\\lib\\site-packages (from mcp) (0.28.1)\n",
      "Requirement already satisfied: jsonschema>=4.20.0 in d:\\jupyter python\\conversational analyst\\venv\\lib\\site-packages (from mcp) (4.25.1)\n",
      "Requirement already satisfied: pydantic-settings>=2.5.2 in d:\\jupyter python\\conversational analyst\\venv\\lib\\site-packages (from mcp) (2.11.0)\n",
      "Requirement already satisfied: pydantic<3.0.0,>=2.11.0 in d:\\jupyter python\\conversational analyst\\venv\\lib\\site-packages (from mcp) (2.12.3)\n",
      "Requirement already satisfied: pyjwt>=2.10.1 in d:\\jupyter python\\conversational analyst\\venv\\lib\\site-packages (from pyjwt[crypto]>=2.10.1->mcp) (2.10.1)\n",
      "Requirement already satisfied: python-multipart>=0.0.9 in d:\\jupyter python\\conversational analyst\\venv\\lib\\site-packages (from mcp) (0.0.20)\n",
      "Requirement already satisfied: pywin32>=310 in d:\\jupyter python\\conversational analyst\\venv\\lib\\site-packages (from mcp) (311)\n",
      "Requirement already satisfied: sse-starlette>=1.6.1 in d:\\jupyter python\\conversational analyst\\venv\\lib\\site-packages (from mcp) (3.0.3)\n",
      "Requirement already satisfied: starlette>=0.27 in d:\\jupyter python\\conversational analyst\\venv\\lib\\site-packages (from mcp) (0.49.1)\n",
      "Requirement already satisfied: uvicorn>=0.31.1 in d:\\jupyter python\\conversational analyst\\venv\\lib\\site-packages (from mcp) (0.38.0)\n",
      "Requirement already satisfied: annotated-types>=0.6.0 in d:\\jupyter python\\conversational analyst\\venv\\lib\\site-packages (from pydantic<3.0.0,>=2.11.0->mcp) (0.7.0)\n",
      "Requirement already satisfied: pydantic-core==2.41.4 in d:\\jupyter python\\conversational analyst\\venv\\lib\\site-packages (from pydantic<3.0.0,>=2.11.0->mcp) (2.41.4)\n",
      "Requirement already satisfied: typing-extensions>=4.14.1 in d:\\jupyter python\\conversational analyst\\venv\\lib\\site-packages (from pydantic<3.0.0,>=2.11.0->mcp) (4.15.0)\n",
      "Requirement already satisfied: typing-inspection>=0.4.2 in d:\\jupyter python\\conversational analyst\\venv\\lib\\site-packages (from pydantic<3.0.0,>=2.11.0->mcp) (0.4.2)\n",
      "Requirement already satisfied: idna>=2.8 in d:\\jupyter python\\conversational analyst\\venv\\lib\\site-packages (from anyio>=4.5->mcp) (3.11)\n",
      "Requirement already satisfied: sniffio>=1.1 in d:\\jupyter python\\conversational analyst\\venv\\lib\\site-packages (from anyio>=4.5->mcp) (1.3.1)\n",
      "Requirement already satisfied: certifi in d:\\jupyter python\\conversational analyst\\venv\\lib\\site-packages (from httpx>=0.27.1->mcp) (2025.10.5)\n",
      "Requirement already satisfied: httpcore==1.* in d:\\jupyter python\\conversational analyst\\venv\\lib\\site-packages (from httpx>=0.27.1->mcp) (1.0.9)\n",
      "Requirement already satisfied: h11>=0.16 in d:\\jupyter python\\conversational analyst\\venv\\lib\\site-packages (from httpcore==1.*->httpx>=0.27.1->mcp) (0.16.0)\n",
      "Requirement already satisfied: attrs>=22.2.0 in d:\\jupyter python\\conversational analyst\\venv\\lib\\site-packages (from jsonschema>=4.20.0->mcp) (25.4.0)\n",
      "Requirement already satisfied: jsonschema-specifications>=2023.03.6 in d:\\jupyter python\\conversational analyst\\venv\\lib\\site-packages (from jsonschema>=4.20.0->mcp) (2025.9.1)\n",
      "Requirement already satisfied: referencing>=0.28.4 in d:\\jupyter python\\conversational analyst\\venv\\lib\\site-packages (from jsonschema>=4.20.0->mcp) (0.37.0)\n",
      "Requirement already satisfied: rpds-py>=0.7.1 in d:\\jupyter python\\conversational analyst\\venv\\lib\\site-packages (from jsonschema>=4.20.0->mcp) (0.28.0)\n",
      "Requirement already satisfied: python-dotenv>=0.21.0 in d:\\jupyter python\\conversational analyst\\venv\\lib\\site-packages (from pydantic-settings>=2.5.2->mcp) (1.2.1)\n",
      "Requirement already satisfied: cryptography>=3.4.0 in d:\\jupyter python\\conversational analyst\\venv\\lib\\site-packages (from pyjwt[crypto]>=2.10.1->mcp) (46.0.3)\n",
      "Requirement already satisfied: cffi>=2.0.0 in d:\\jupyter python\\conversational analyst\\venv\\lib\\site-packages (from cryptography>=3.4.0->pyjwt[crypto]>=2.10.1->mcp) (2.0.0)\n",
      "Requirement already satisfied: pycparser in d:\\jupyter python\\conversational analyst\\venv\\lib\\site-packages (from cffi>=2.0.0->cryptography>=3.4.0->pyjwt[crypto]>=2.10.1->mcp) (2.23)\n",
      "Requirement already satisfied: click>=7.0 in d:\\jupyter python\\conversational analyst\\venv\\lib\\site-packages (from uvicorn>=0.31.1->mcp) (8.3.0)\n",
      "Requirement already satisfied: colorama in d:\\jupyter python\\conversational analyst\\venv\\lib\\site-packages (from click>=7.0->uvicorn>=0.31.1->mcp) (0.4.6)\n"
     ]
    },
    {
     "name": "stderr",
     "output_type": "stream",
     "text": [
      "\n",
      "[notice] A new release of pip is available: 25.1.1 -> 25.3\n",
      "[notice] To update, run: python.exe -m pip install --upgrade pip\n"
     ]
    }
   ],
   "source": [
    "!pip install mcp"
   ]
  },
  {
   "cell_type": "code",
   "execution_count": 22,
   "id": "3920fd51-c72e-4995-84f5-1ea1d90d12a5",
   "metadata": {},
   "outputs": [
    {
     "name": "stdout",
     "output_type": "stream",
     "text": [
      "Requirement already satisfied: mcp[cli] in d:\\jupyter python\\conversational analyst\\venv\\lib\\site-packages (1.20.0)\n",
      "Requirement already satisfied: anyio>=4.5 in d:\\jupyter python\\conversational analyst\\venv\\lib\\site-packages (from mcp[cli]) (4.11.0)\n",
      "Requirement already satisfied: httpx-sse>=0.4 in d:\\jupyter python\\conversational analyst\\venv\\lib\\site-packages (from mcp[cli]) (0.4.3)\n",
      "Requirement already satisfied: httpx>=0.27.1 in d:\\jupyter python\\conversational analyst\\venv\\lib\\site-packages (from mcp[cli]) (0.28.1)\n",
      "Requirement already satisfied: jsonschema>=4.20.0 in d:\\jupyter python\\conversational analyst\\venv\\lib\\site-packages (from mcp[cli]) (4.25.1)\n",
      "Requirement already satisfied: pydantic-settings>=2.5.2 in d:\\jupyter python\\conversational analyst\\venv\\lib\\site-packages (from mcp[cli]) (2.11.0)\n",
      "Requirement already satisfied: pydantic<3.0.0,>=2.11.0 in d:\\jupyter python\\conversational analyst\\venv\\lib\\site-packages (from mcp[cli]) (2.12.3)\n",
      "Requirement already satisfied: pyjwt>=2.10.1 in d:\\jupyter python\\conversational analyst\\venv\\lib\\site-packages (from pyjwt[crypto]>=2.10.1->mcp[cli]) (2.10.1)\n",
      "Requirement already satisfied: python-multipart>=0.0.9 in d:\\jupyter python\\conversational analyst\\venv\\lib\\site-packages (from mcp[cli]) (0.0.20)\n",
      "Requirement already satisfied: pywin32>=310 in d:\\jupyter python\\conversational analyst\\venv\\lib\\site-packages (from mcp[cli]) (311)\n",
      "Requirement already satisfied: sse-starlette>=1.6.1 in d:\\jupyter python\\conversational analyst\\venv\\lib\\site-packages (from mcp[cli]) (3.0.3)\n",
      "Requirement already satisfied: starlette>=0.27 in d:\\jupyter python\\conversational analyst\\venv\\lib\\site-packages (from mcp[cli]) (0.49.1)\n",
      "Requirement already satisfied: uvicorn>=0.31.1 in d:\\jupyter python\\conversational analyst\\venv\\lib\\site-packages (from mcp[cli]) (0.38.0)\n",
      "Requirement already satisfied: python-dotenv>=1.0.0 in d:\\jupyter python\\conversational analyst\\venv\\lib\\site-packages (from mcp[cli]) (1.2.1)\n",
      "Collecting typer>=0.16.0 (from mcp[cli])\n",
      "  Downloading typer-0.20.0-py3-none-any.whl.metadata (16 kB)\n",
      "Requirement already satisfied: annotated-types>=0.6.0 in d:\\jupyter python\\conversational analyst\\venv\\lib\\site-packages (from pydantic<3.0.0,>=2.11.0->mcp[cli]) (0.7.0)\n",
      "Requirement already satisfied: pydantic-core==2.41.4 in d:\\jupyter python\\conversational analyst\\venv\\lib\\site-packages (from pydantic<3.0.0,>=2.11.0->mcp[cli]) (2.41.4)\n",
      "Requirement already satisfied: typing-extensions>=4.14.1 in d:\\jupyter python\\conversational analyst\\venv\\lib\\site-packages (from pydantic<3.0.0,>=2.11.0->mcp[cli]) (4.15.0)\n",
      "Requirement already satisfied: typing-inspection>=0.4.2 in d:\\jupyter python\\conversational analyst\\venv\\lib\\site-packages (from pydantic<3.0.0,>=2.11.0->mcp[cli]) (0.4.2)\n",
      "Requirement already satisfied: idna>=2.8 in d:\\jupyter python\\conversational analyst\\venv\\lib\\site-packages (from anyio>=4.5->mcp[cli]) (3.11)\n",
      "Requirement already satisfied: sniffio>=1.1 in d:\\jupyter python\\conversational analyst\\venv\\lib\\site-packages (from anyio>=4.5->mcp[cli]) (1.3.1)\n",
      "Requirement already satisfied: certifi in d:\\jupyter python\\conversational analyst\\venv\\lib\\site-packages (from httpx>=0.27.1->mcp[cli]) (2025.10.5)\n",
      "Requirement already satisfied: httpcore==1.* in d:\\jupyter python\\conversational analyst\\venv\\lib\\site-packages (from httpx>=0.27.1->mcp[cli]) (1.0.9)\n",
      "Requirement already satisfied: h11>=0.16 in d:\\jupyter python\\conversational analyst\\venv\\lib\\site-packages (from httpcore==1.*->httpx>=0.27.1->mcp[cli]) (0.16.0)\n",
      "Requirement already satisfied: attrs>=22.2.0 in d:\\jupyter python\\conversational analyst\\venv\\lib\\site-packages (from jsonschema>=4.20.0->mcp[cli]) (25.4.0)\n",
      "Requirement already satisfied: jsonschema-specifications>=2023.03.6 in d:\\jupyter python\\conversational analyst\\venv\\lib\\site-packages (from jsonschema>=4.20.0->mcp[cli]) (2025.9.1)\n",
      "Requirement already satisfied: referencing>=0.28.4 in d:\\jupyter python\\conversational analyst\\venv\\lib\\site-packages (from jsonschema>=4.20.0->mcp[cli]) (0.37.0)\n",
      "Requirement already satisfied: rpds-py>=0.7.1 in d:\\jupyter python\\conversational analyst\\venv\\lib\\site-packages (from jsonschema>=4.20.0->mcp[cli]) (0.28.0)\n",
      "Requirement already satisfied: cryptography>=3.4.0 in d:\\jupyter python\\conversational analyst\\venv\\lib\\site-packages (from pyjwt[crypto]>=2.10.1->mcp[cli]) (46.0.3)\n",
      "Requirement already satisfied: cffi>=2.0.0 in d:\\jupyter python\\conversational analyst\\venv\\lib\\site-packages (from cryptography>=3.4.0->pyjwt[crypto]>=2.10.1->mcp[cli]) (2.0.0)\n",
      "Requirement already satisfied: pycparser in d:\\jupyter python\\conversational analyst\\venv\\lib\\site-packages (from cffi>=2.0.0->cryptography>=3.4.0->pyjwt[crypto]>=2.10.1->mcp[cli]) (2.23)\n",
      "Requirement already satisfied: click>=8.0.0 in d:\\jupyter python\\conversational analyst\\venv\\lib\\site-packages (from typer>=0.16.0->mcp[cli]) (8.3.0)\n",
      "Collecting shellingham>=1.3.0 (from typer>=0.16.0->mcp[cli])\n",
      "  Downloading shellingham-1.5.4-py2.py3-none-any.whl.metadata (3.5 kB)\n",
      "Collecting rich>=10.11.0 (from typer>=0.16.0->mcp[cli])\n",
      "  Downloading rich-14.2.0-py3-none-any.whl.metadata (18 kB)\n",
      "Requirement already satisfied: colorama in d:\\jupyter python\\conversational analyst\\venv\\lib\\site-packages (from click>=8.0.0->typer>=0.16.0->mcp[cli]) (0.4.6)\n",
      "Collecting markdown-it-py>=2.2.0 (from rich>=10.11.0->typer>=0.16.0->mcp[cli])\n",
      "  Downloading markdown_it_py-4.0.0-py3-none-any.whl.metadata (7.3 kB)\n",
      "Requirement already satisfied: pygments<3.0.0,>=2.13.0 in d:\\jupyter python\\conversational analyst\\venv\\lib\\site-packages (from rich>=10.11.0->typer>=0.16.0->mcp[cli]) (2.19.2)\n",
      "Collecting mdurl~=0.1 (from markdown-it-py>=2.2.0->rich>=10.11.0->typer>=0.16.0->mcp[cli])\n",
      "  Downloading mdurl-0.1.2-py3-none-any.whl.metadata (1.6 kB)\n",
      "Downloading typer-0.20.0-py3-none-any.whl (47 kB)\n",
      "Downloading rich-14.2.0-py3-none-any.whl (243 kB)\n",
      "Downloading markdown_it_py-4.0.0-py3-none-any.whl (87 kB)\n",
      "Downloading mdurl-0.1.2-py3-none-any.whl (10.0 kB)\n",
      "Downloading shellingham-1.5.4-py2.py3-none-any.whl (9.8 kB)\n",
      "Installing collected packages: shellingham, mdurl, markdown-it-py, rich, typer\n",
      "\n",
      "   -------- ------------------------------- 1/5 [mdurl]\n",
      "   ---------------- ----------------------- 2/5 [markdown-it-py]\n",
      "   ---------------- ----------------------- 2/5 [markdown-it-py]\n",
      "   ---------------- ----------------------- 2/5 [markdown-it-py]\n",
      "   ---------------- ----------------------- 2/5 [markdown-it-py]\n",
      "   ---------------- ----------------------- 2/5 [markdown-it-py]\n",
      "   ---------------- ----------------------- 2/5 [markdown-it-py]\n",
      "   ---------------- ----------------------- 2/5 [markdown-it-py]\n",
      "   ---------------- ----------------------- 2/5 [markdown-it-py]\n",
      "   ---------------- ----------------------- 2/5 [markdown-it-py]\n",
      "   ------------------------ --------------- 3/5 [rich]\n",
      "   ------------------------ --------------- 3/5 [rich]\n",
      "   ------------------------ --------------- 3/5 [rich]\n",
      "   ------------------------ --------------- 3/5 [rich]\n",
      "   ------------------------ --------------- 3/5 [rich]\n",
      "   ------------------------ --------------- 3/5 [rich]\n",
      "   ------------------------ --------------- 3/5 [rich]\n",
      "   ------------------------ --------------- 3/5 [rich]\n",
      "   ------------------------ --------------- 3/5 [rich]\n",
      "   ------------------------ --------------- 3/5 [rich]\n",
      "   -------------------------------- ------- 4/5 [typer]\n",
      "   -------------------------------- ------- 4/5 [typer]\n",
      "   -------------------------------- ------- 4/5 [typer]\n",
      "   ---------------------------------------- 5/5 [typer]\n",
      "\n",
      "Successfully installed markdown-it-py-4.0.0 mdurl-0.1.2 rich-14.2.0 shellingham-1.5.4 typer-0.20.0\n",
      "Note: you may need to restart the kernel to use updated packages.\n"
     ]
    },
    {
     "name": "stderr",
     "output_type": "stream",
     "text": [
      "\n",
      "[notice] A new release of pip is available: 25.1.1 -> 25.3\n",
      "[notice] To update, run: python.exe -m pip install --upgrade pip\n"
     ]
    }
   ],
   "source": [
    "pip install \"mcp[cli]\""
   ]
  },
  {
   "cell_type": "code",
   "execution_count": 23,
   "id": "d8e0bd9c-127c-42e0-a694-b1b8281a89a6",
   "metadata": {},
   "outputs": [],
   "source": [
    "async def my_function():\n",
    "    print(\"Start\")\n",
    "    await asyncio.sleep(2)\n",
    "    print(\"End\")\n"
   ]
  },
  {
   "cell_type": "code",
   "execution_count": 26,
   "id": "13db7d58-5e97-4bbc-9983-c47b6568d794",
   "metadata": {},
   "outputs": [
    {
     "ename": "RuntimeError",
     "evalue": "asyncio.run() cannot be called from a running event loop",
     "output_type": "error",
     "traceback": [
      "\u001b[31m---------------------------------------------------------------------------\u001b[39m",
      "\u001b[31mRuntimeError\u001b[39m                              Traceback (most recent call last)",
      "\u001b[36mCell\u001b[39m\u001b[36m \u001b[39m\u001b[32mIn[26]\u001b[39m\u001b[32m, line 2\u001b[39m\n\u001b[32m      1\u001b[39m \u001b[38;5;28;01mimport\u001b[39;00m\u001b[38;5;250m \u001b[39m\u001b[34;01masyncio\u001b[39;00m\n\u001b[32m----> \u001b[39m\u001b[32m2\u001b[39m \u001b[43masyncio\u001b[49m\u001b[43m.\u001b[49m\u001b[43mrun\u001b[49m\u001b[43m(\u001b[49m\u001b[43mmy_function\u001b[49m\u001b[43m(\u001b[49m\u001b[43m)\u001b[49m\u001b[43m)\u001b[49m\n",
      "\u001b[36mFile \u001b[39m\u001b[32mD:\\Annaconda\\Lib\\asyncio\\runners.py:191\u001b[39m, in \u001b[36mrun\u001b[39m\u001b[34m(main, debug, loop_factory)\u001b[39m\n\u001b[32m    161\u001b[39m \u001b[38;5;250m\u001b[39m\u001b[33;03m\"\"\"Execute the coroutine and return the result.\u001b[39;00m\n\u001b[32m    162\u001b[39m \n\u001b[32m    163\u001b[39m \u001b[33;03mThis function runs the passed coroutine, taking care of\u001b[39;00m\n\u001b[32m   (...)\u001b[39m\u001b[32m    187\u001b[39m \u001b[33;03m    asyncio.run(main())\u001b[39;00m\n\u001b[32m    188\u001b[39m \u001b[33;03m\"\"\"\u001b[39;00m\n\u001b[32m    189\u001b[39m \u001b[38;5;28;01mif\u001b[39;00m events._get_running_loop() \u001b[38;5;129;01mis\u001b[39;00m \u001b[38;5;129;01mnot\u001b[39;00m \u001b[38;5;28;01mNone\u001b[39;00m:\n\u001b[32m    190\u001b[39m     \u001b[38;5;66;03m# fail fast with short traceback\u001b[39;00m\n\u001b[32m--> \u001b[39m\u001b[32m191\u001b[39m     \u001b[38;5;28;01mraise\u001b[39;00m \u001b[38;5;167;01mRuntimeError\u001b[39;00m(\n\u001b[32m    192\u001b[39m         \u001b[33m\"\u001b[39m\u001b[33masyncio.run() cannot be called from a running event loop\u001b[39m\u001b[33m\"\u001b[39m)\n\u001b[32m    194\u001b[39m \u001b[38;5;28;01mwith\u001b[39;00m Runner(debug=debug, loop_factory=loop_factory) \u001b[38;5;28;01mas\u001b[39;00m runner:\n\u001b[32m    195\u001b[39m     \u001b[38;5;28;01mreturn\u001b[39;00m runner.run(main)\n",
      "\u001b[31mRuntimeError\u001b[39m: asyncio.run() cannot be called from a running event loop"
     ]
    }
   ],
   "source": [
    "import asyncio\n",
    "asyncio.run(my_function())"
   ]
  },
  {
   "cell_type": "code",
   "execution_count": 25,
   "id": "43a0e393-2093-4059-a259-c80c08e42427",
   "metadata": {},
   "outputs": [
    {
     "data": {
      "text/plain": [
       "<coroutine object my_function at 0x0000021CFA497B80>"
      ]
     },
     "execution_count": 25,
     "metadata": {},
     "output_type": "execute_result"
    }
   ],
   "source": [
    "my_function()"
   ]
  },
  {
   "cell_type": "code",
   "execution_count": null,
   "id": "7ede8839-1215-4777-8e92-7cb1e3a73ea8",
   "metadata": {},
   "outputs": [],
   "source": []
  }
 ],
 "metadata": {
  "kernelspec": {
   "display_name": "Python 3 (ipykernel)",
   "language": "python",
   "name": "python3"
  },
  "language_info": {
   "codemirror_mode": {
    "name": "ipython",
    "version": 3
   },
   "file_extension": ".py",
   "mimetype": "text/x-python",
   "name": "python",
   "nbconvert_exporter": "python",
   "pygments_lexer": "ipython3",
   "version": "3.13.5"
  }
 },
 "nbformat": 4,
 "nbformat_minor": 5
}
